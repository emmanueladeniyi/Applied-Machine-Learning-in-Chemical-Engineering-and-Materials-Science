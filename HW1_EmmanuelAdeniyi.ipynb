{
 "cells": [
  {
   "cell_type": "markdown",
   "metadata": {},
   "source": [
    "# Homework 1\n",
    "- **Due**: Thurs 2/1/24 at 6 pm CT\n",
    "- Submit as .ipynb file on GradeScope\n",
    "- Scoring:\n",
    "  - (1): 40 points\n",
    "    - (a)-(b): 20 points each\n",
    "  - (2): 20 points\n",
    "    - (a)-(d): 5 points each\n",
    "  - (3): 15 points\n",
    "    - (a)-(e): 3 points each\n",
    "  - (4): 12 points\n",
    "    - (a)-(b): 6 points each\n",
    "  - (5): 13 points"
   ]
  },
  {
   "cell_type": "markdown",
   "metadata": {},
   "source": [
    "# Helpful resources\n",
    "\n",
    "- [CEMS Python Toolkit](https://docs.cems.umn.edu/intro/intro.html)\n",
    "- [Markdown cheat sheet](https://www.markdownguide.org/cheat-sheet/)\n",
    "- [Jupyter cheat sheet](https://www.edureka.co/blog/wp-content/uploads/2018/10/Jupyter_Notebook_CheatSheet_Edureka.pdf)\n",
    "- the review/perspective articles in [Lecture 1](https://canvas.umn.edu/courses/412435/pages/lectures) might be helpful places to start to find a paper of interest"
   ]
  },
  {
   "cell_type": "markdown",
   "metadata": {},
   "source": [
    "# Guidelines\n",
    "- for all code questions, you should include some form of printed validation that confirms that your provided solution is working as expected\n",
    "- all code should run as written using the `cems5802_24.0` conda environment\n",
    "    - **remember**, you can set your conda environment in jupyter by going to Kernel > Change kernel > cems5802_24.0"
   ]
  },
  {
   "cell_type": "markdown",
   "metadata": {},
   "source": [
    "# (1) Lit review\n",
    "Find a paper in the scientific literature that uses machine learning to solve a problem in Chemical Engineering or Materials Science (broadly defined)\n",
    "### (a) Paste the title, abstract, authors, and DOI into a Markdown cell\n",
    "\n",
    "\n",
    "### (b) Briefly (1-3 sentences each) describe the following points about the paper:\n",
    "\n",
    "1) what is the problem they are trying to solve?\n",
    "2) what is the machine learning method they used?\n",
    "3) where did they get their data?\n",
    "4) how did they assess the performance of their model?\n",
    "5) what is at least one limitation of their approach?\n",
    "\n",
    "### *scoring*:\n",
    "#### (a):\n",
    "- +5 points for providing each item\n",
    "\n",
    "#### (b):\n",
    "- for each question:\n",
    "    - +1 points for attempting\n",
    "    - +3 points for satisfactory answer"
   ]
  },
  {
   "cell_type": "markdown",
   "metadata": {},
   "source": [
    "# Write your response to (a) here\n",
    "**(a)** \n",
    "- **Title:** Accelerated discovery of metallic glasses through iteration of machine learning and high-throughput experiments\n",
    "\n",
    "- **Abstract:** With more than a hundred elements in the periodic table, a large number of potential new materials exist to address the technological and societal challenges we face today; however, without some guidance, searching  through this vast combinatorial space is frustratingly slow and expensive, especially for materials strongly influenced by processing. We train a machine learning (ML) model on previously reported observations, parameters from physiochemical theories, and make it synthesis method–dependent to guide high-throughput (HiTp) experiments to find a new system of metallic glasses in the Co-V-Zr ternary. Experimental observations are in good agreement with the predictions of the model, but there are quantitative discrepancies in the precise compositions predicted. We use these discrepancies to retrain the ML model. The refined model has significantly improved accuracy not only for the Co-V-Zr system but also across all other available validation data. We then use the refined model to guide the discovery of metallic glasses in two additional previously unreported ternaries. Although our approach of iterative use of ML and HiTp experiments has guided us to rapid discovery of three new glass-forming systems, it has also provided us with a quantitatively accurate, synthesis method–sensitive predictor for metallic glasses that improves performance with use and thus promises to greatly accelerate discovery of many new metallic glasses. We believe that this discovery paradigm is applicable to a wider range of materials and should prove equally powerful for other materials and properties that are synthesis path– dependent and that current physiochemical theories find challenging to predict.\n",
    "\n",
    "\n",
    "- **Authors:** Fang Ren, Logan Ward, Travis Williams, Kevin J. Laws, Christopher Wolverton, Jason Hattrick-Simpers, Apurva Mehta\n",
    "\n",
    "- **DOI:** p.eaaq1566-eaaq1566"
   ]
  },
  {
   "cell_type": "markdown",
   "metadata": {},
   "source": [
    "# Write your response to (b) here\n",
    "**(b)**\n",
    "1. Researchers in this paper attempted to address the difficulties associated with exploring an extensive combinatorial space of potential novel materials, particularly metallic glasses, which are heavily impacted by processing using a combination of high-throughout experiments and machine learning models. \n",
    "\n",
    "2. Supervised machine learning modeling was used in this study to train a model on previously reported observations and physiochemical theories to guide high-throughput experiments in the search for new metallic glasses.\n",
    " \n",
    "3. The researchers obtained their data from the Landolt-Bornstein (LB) handbook, which contains a large fraction of melt-spinning experiments on metallic glasses performed over the last 50 years. The dataset includes 6780 melt-spinning experiments at 5313 unique compositions, covering various elements, including examples of metal-metal and metal-metalloid glasses. They also used a sputtering dataset that contains examples of metal-metal and metal-metalloid glasses but with fewer elements than the melt-spinning dataset. The sputtering dataset included 411 entries at 393 different compositions, collected from the LB handbook.\n",
    " \n",
    "4. The researchers assessed the performance of their machine learning (ML) model using log-loss accuracy, which is a metric for measuring the performance of a classification model that considers the \"certainty\" of each prediction. The researchers also used a grouping cross-validation test to assess the performance of their ML model in predicting the glass-forming likelihood (GFL) for different synthesis methods such as melt spinning and sputtering. \n",
    "\n",
    "5. One of the limitations of their approach is that while the ML model showed improved accuracy with each iteration, it still relies on the availability of experimental data from high-throughput (HiTp) experiments. The performance of the model is limited by the quality and quantity of the available training data. Another limitation is that the ML model's performance in predicting glass-forming likelihood (GFL) may vary depending on the synthesis method. The researchers observed differences in the performance of the ML model between the melt spinning and sputtering synthesis methods, leading them to justify the use of separate ML models for each method.\n"
   ]
  },
  {
   "cell_type": "markdown",
   "metadata": {},
   "source": [
    "# (2) python syntax\n",
    "- **Remember**: there should be printed validation for your solution\n",
    "\n",
    "### (a)\n",
    "- write a `print` statement that prints \"Earth is the 3rd planet from the sun\" using string formatting with variables: `planet = \"Earth\"` and `number = 3`\n",
    "\n",
    "### (b)\n",
    "```python\n",
    "a_list = [1, 1, 2, 3, 5, 8, 13, 21]\n",
    "```\n",
    "- use list indexing to print the first, last, and third numbers in `a_list`\n",
    "\n",
    "### (c)\n",
    "```python\n",
    "a_dict = {}\n",
    "for x in [1,2,3,1234]:\n",
    "    a_dict[x] = x**3\n",
    "```\n",
    "- use `a_dict` to print 1234^3\n",
    "\n",
    "### (d)\n",
    "- fix the indentation issues in the following code:\n",
    "```python\n",
    "for i,key in enumerate(a_dict):\n",
    "    val = a_dict[key]\n",
    "     print(\"=\"*5)\n",
    "    print(\"Item: {}\".format(i))\n",
    "    print(\"Key: {}\".format(key))\n",
    "     print(\"Value: {}\".format(val))\n",
    "        print(\"=\"*5)\n",
    "```\n",
    "\n",
    "### *scoring*:\n",
    "- (a)-(d):\n",
    "    - +2 points for attempting each part\n",
    "    - +3 points for providing a correct solution\n"
   ]
  },
  {
   "cell_type": "markdown",
   "metadata": {},
   "source": [
    "# (2) Use separate code cells below to answer each part"
   ]
  },
  {
   "cell_type": "code",
   "execution_count": 1,
   "metadata": {},
   "outputs": [
    {
     "name": "stdout",
     "output_type": "stream",
     "text": [
      "Earth is the 3rd planet from the sun\n"
     ]
    }
   ],
   "source": [
    "# (a) \n",
    "planet = \"Earth\"\n",
    "number = 3\n",
    "print(f\"{planet} is the {number}rd planet from the sun\")"
   ]
  },
  {
   "cell_type": "code",
   "execution_count": 2,
   "metadata": {},
   "outputs": [
    {
     "name": "stdout",
     "output_type": "stream",
     "text": [
      "First number: 1\n",
      "Last number: 21\n",
      "Third number: 2\n"
     ]
    }
   ],
   "source": [
    "# (b)\n",
    "a_list = [1, 1, 2, 3, 5, 8, 13, 21]\n",
    "\n",
    "print(\"First number:\", a_list[0]) \n",
    "\n",
    "print(\"Last number:\", a_list[-1]) \n",
    "\n",
    "print(\"Third number:\", a_list[2]) "
   ]
  },
  {
   "cell_type": "code",
   "execution_count": 3,
   "metadata": {},
   "outputs": [
    {
     "name": "stdout",
     "output_type": "stream",
     "text": [
      "1234^3: 1879080904\n"
     ]
    }
   ],
   "source": [
    "# (c)\n",
    "a_dict = {}\n",
    "\n",
    "for x in [1, 2, 3, 1234]: \n",
    "    a_dict[x] = x**3\n",
    "\n",
    "print(\"1234^3:\", a_dict[1234])"
   ]
  },
  {
   "cell_type": "code",
   "execution_count": 4,
   "metadata": {},
   "outputs": [
    {
     "name": "stdout",
     "output_type": "stream",
     "text": [
      "=====\n",
      "Item: 0\n",
      "Key: 1\n",
      "Value: 1\n",
      "=====\n",
      "=====\n",
      "Item: 1\n",
      "Key: 2\n",
      "Value: 8\n",
      "=====\n",
      "=====\n",
      "Item: 2\n",
      "Key: 3\n",
      "Value: 27\n",
      "=====\n",
      "=====\n",
      "Item: 3\n",
      "Key: 1234\n",
      "Value: 1879080904\n",
      "=====\n"
     ]
    }
   ],
   "source": [
    "# (d)\n",
    "for i, key in enumerate(a_dict):\n",
    "    val = a_dict[key]\n",
    "    print(\"=\"*5)\n",
    "    print(\"Item: {}\".format(i))\n",
    "    print(\"Key: {}\".format(key))\n",
    "    print(\"Value: {}\".format(val))\n",
    "    print(\"=\"*5)"
   ]
  },
  {
   "cell_type": "markdown",
   "metadata": {},
   "source": [
    "# (3) more python manipulations\n",
    "- perform the desired output in ***one line of python*** (not including defining the \"input\" if provided)\n",
    "- **Remember**: there should be printed validation for your solution\n",
    "    - you may use additional lines to check correctness and/or print your solution, but the requested manipulation should be done in one line\n",
    "\n",
    "### (a)\n",
    "`input_list` = ['Chemical', 'Engineering', 'and', 'Materials', 'Science']\n",
    "\n",
    "`output_string` = 'Chemical Engineering and Materials Science'\n",
    "\n",
    "### (b)\n",
    "`output_list` = even positive integers up to 100\n",
    "\n",
    "### (c)\n",
    "`output_dict` = dictionary mapping odd integers from -20 through 10 to the square of that odd integer\n",
    "\n",
    "### (d)\n",
    "`input_list` = ['a', 'b', 'c', 'd']\n",
    "\n",
    "`output_list` = ['d', 'c', 'b', 'a']\n",
    "\n",
    "### (e)\n",
    "`input_str` = 'I love Machine Learning'\n",
    "\n",
    "`output_str` = 'I love ML'\n",
    "\n",
    "### *scoring*:\n",
    "#### (a)-(e):\n",
    "- +2 points for attempting each part\n",
    "- +1 points for providing a correct solution"
   ]
  },
  {
   "cell_type": "markdown",
   "metadata": {},
   "source": [
    "# (3) Use separate code cells below to answer each part"
   ]
  },
  {
   "cell_type": "code",
   "execution_count": 5,
   "metadata": {},
   "outputs": [
    {
     "name": "stdout",
     "output_type": "stream",
     "text": [
      "Chemical Engineering and Materials Science\n"
     ]
    }
   ],
   "source": [
    "input_list = ['Chemical', 'Engineering', 'and', 'Materials', 'Science']\n",
    "\n",
    "# (a)\n",
    "print(' '.join(input_list))"
   ]
  },
  {
   "cell_type": "code",
   "execution_count": 7,
   "metadata": {},
   "outputs": [
    {
     "name": "stdout",
     "output_type": "stream",
     "text": [
      "[2, 4, 6, 8, 10, 12, 14, 16, 18, 20, 22, 24, 26, 28, 30, 32, 34, 36, 38, 40, 42, 44, 46, 48, 50, 52, 54, 56, 58, 60, 62, 64, 66, 68, 70, 72, 74, 76, 78, 80, 82, 84, 86, 88, 90, 92, 94, 96, 98, 100]\n"
     ]
    }
   ],
   "source": [
    "# (b)\n",
    "print([x for x in range(2, 101, 2)])"
   ]
  },
  {
   "cell_type": "code",
   "execution_count": 8,
   "metadata": {},
   "outputs": [
    {
     "name": "stdout",
     "output_type": "stream",
     "text": [
      "{-19: 361, -17: 289, -15: 225, -13: 169, -11: 121, -9: 81, -7: 49, -5: 25, -3: 9, -1: 1, 1: 1, 3: 9, 5: 25, 7: 49, 9: 81}\n"
     ]
    }
   ],
   "source": [
    "# (c)\n",
    "print({x: x**2 for x in range(-20, 11) if x % 2 != 0})"
   ]
  },
  {
   "cell_type": "code",
   "execution_count": 6,
   "metadata": {},
   "outputs": [
    {
     "name": "stdout",
     "output_type": "stream",
     "text": [
      "['d', 'c', 'b', 'a']\n"
     ]
    }
   ],
   "source": [
    "input_list = ['a', 'b', 'c', 'd']\n",
    "# (d)\n",
    "print(input_list[::-1])       "
   ]
  },
  {
   "cell_type": "code",
   "execution_count": 7,
   "metadata": {},
   "outputs": [
    {
     "name": "stdout",
     "output_type": "stream",
     "text": [
      "I love ML\n"
     ]
    }
   ],
   "source": [
    "input_str = 'I love Machine Learning'\n",
    "# (e)\n",
    "print(' '.join(['ML' if word.lower() in {'machine', 'learning'} else word for word in input_str.split()[:3]]))"
   ]
  },
  {
   "cell_type": "markdown",
   "metadata": {},
   "source": [
    "# (4) python functions\n",
    "- complete the following functions to achieve the expected behavior\n",
    "- **Remember**: there should be printed validation for your solution\n",
    "\n",
    "\n",
    "### (a)\n",
    "```python\n",
    "def square_root_integer(x):\n",
    "    \"\"\"\n",
    "    Args:\n",
    "        x (int): input integer\n",
    "    Returns:\n",
    "        False if x is not a positive integer\n",
    "        x^(1/2) (int) if x is a positive integer\n",
    "    \"\"\"\n",
    "```\n",
    "\n",
    "### (b)\n",
    "```python\n",
    "def make_list_of_cubed_numbers(max_val):\n",
    "    \"\"\"\n",
    "    Args:\n",
    "        max_val (int): maximum value to cube in list\n",
    "    Returns:\n",
    "        list of cubed integers from 1 through max_val\n",
    "        e.g., if max_val == 3, return [1, 8, 27]\n",
    "    \"\"\"\n",
    "```\n",
    "\n",
    "### *scoring*:\n",
    "#### (a)-(b):\n",
    "- +3 points for attempting each part\n",
    "- +3 points for providing a correct solution"
   ]
  },
  {
   "cell_type": "markdown",
   "metadata": {},
   "source": [
    "# (4) Use separate code cells below to answer each part"
   ]
  },
  {
   "cell_type": "code",
   "execution_count": 8,
   "metadata": {},
   "outputs": [],
   "source": [
    "# (a)\n",
    "def square_root_integer(x):\n",
    "    \"\"\"\n",
    "    Args:\n",
    "        x (int): input integer\n",
    "    Returns:\n",
    "        False if x is not a positive integer\n",
    "        x^(1/2) (int) if x is a positive integer\n",
    "    \"\"\"\n"
   ]
  },
  {
   "cell_type": "code",
   "execution_count": 9,
   "metadata": {},
   "outputs": [
    {
     "name": "stdout",
     "output_type": "stream",
     "text": [
      "The square root of 25 is: 5\n"
     ]
    }
   ],
   "source": [
    "def square_root_integer(x):\n",
    "    \"\"\"\n",
    "    Args:\n",
    "        x (int): input integer\n",
    "    Returns:\n",
    "        False if x is not a positive integer\n",
    "        x^(1/2) (int) if x is a positive integer\n",
    "    \"\"\"\n",
    "    if isinstance(x, int) and x > 0:\n",
    "        return int(x ** 0.5)\n",
    "    else:\n",
    "        return False\n",
    "\n",
    "input_value = 25\n",
    "output_result = square_root_integer(input_value)\n",
    "\n",
    "print(f\"The square root of {input_value} is: {output_result}\")\n"
   ]
  },
  {
   "cell_type": "code",
   "execution_count": 3,
   "metadata": {},
   "outputs": [],
   "source": [
    "# (b)\n",
    "def make_list_of_cubed_numbers(max_val):\n",
    "    \"\"\"\n",
    "    Args:\n",
    "        max_val (int): maximum value to cube in list\n",
    "    Returns:\n",
    "        list of cubed integers from 1 through max_val\n",
    "        e.g., if max_val == 3, return [1, 8, 27]\n",
    "    \"\"\"\n"
   ]
  },
  {
   "cell_type": "code",
   "execution_count": 4,
   "metadata": {},
   "outputs": [
    {
     "name": "stdout",
     "output_type": "stream",
     "text": [
      "For max_val = 3, the list of cubed numbers is: [1, 8, 27]\n"
     ]
    }
   ],
   "source": [
    "def make_list_of_cubed_numbers(max_val):\n",
    "    \"\"\"\n",
    "    Args:\n",
    "        max_val (int): maximum value to cube in list\n",
    "    Returns:\n",
    "        list of cubed integers from 1 through max_val\n",
    "        e.g., if max_val == 3, return [1, 8, 27]\n",
    "    \"\"\"\n",
    "    return [i**3 for i in range(1, max_val + 1)]\n",
    "\n",
    "# Example usage\n",
    "max_val = 3\n",
    "result = make_list_of_cubed_numbers(max_val)\n",
    "print(f\"For max_val = {max_val}, the list of cubed numbers is: {result}\")"
   ]
  },
  {
   "cell_type": "markdown",
   "metadata": {},
   "source": [
    "# (5) python classes\n",
    "- given the following dictionary:\n",
    "```python3\n",
    "silicon = {'symbol' : 'Si',\n",
    "           'inorganic' : True,\n",
    "           'atomic_number' : 14,\n",
    "           'melting_point' : 1687, # K,\n",
    "           'n_atoms_in_unit_cell' : 8,\n",
    "           'unit_cell_volume' : 5.43**3, # Angstrom^3\n",
    "           'atomic_mass' : 28.0855} # g/mol\n",
    "```\n",
    "\n",
    "- Create a class that allows all information in the `dict` to be returned as a property. Also use the values provided in `silicon` to compute and return the mass density of Si (g/cm^3) using `Silicon().mass_density`\n",
    "- **Remember**: there should be printed validation for your solution\n",
    "\n",
    "\n",
    "### *scoring*:\n",
    "- +5 points for attempting \n",
    "- +8 points for providing a correct solution\n"
   ]
  },
  {
   "cell_type": "markdown",
   "metadata": {},
   "source": [
    "# (5) Use a code cell below to answer this question"
   ]
  },
  {
   "cell_type": "code",
   "execution_count": 5,
   "metadata": {},
   "outputs": [
    {
     "name": "stdout",
     "output_type": "stream",
     "text": [
      "Symbol: Si\n",
      "Atomic Number: 14\n",
      "Mass Density: 1403371518187663119089664.0000 g/cm^3\n"
     ]
    }
   ],
   "source": [
    "class Silicon:\n",
    "    def __init__(self):\n",
    "        self._d = {'symbol': 'Si',\n",
    "                   'inorganic': True,\n",
    "                   'atomic_number': 14,\n",
    "                   'melting_point': 1687,\n",
    "                   'n_atoms_in_unit_cell': 8,\n",
    "                   'unit_cell_volume': 5.43**3,\n",
    "                   'atomic_mass': 28.0855}\n",
    "    @property\n",
    "    def symbol(self): \n",
    "        return self._d['symbol']\n",
    "    @property\n",
    "    def inorganic(self): \n",
    "        return self._d['inorganic']\n",
    "    @property\n",
    "    def atomic_number(self): \n",
    "        return self._d['atomic_number']\n",
    "    @property\n",
    "    def melting_point(self): \n",
    "        return self._d['melting_point']\n",
    "    @property\n",
    "    def n_atoms_in_unit_cell(self): \n",
    "        return self._d['n_atoms_in_unit_cell']\n",
    "    @property\n",
    "    def unit_cell_volume(self): \n",
    "        return self._d['unit_cell_volume']\n",
    "    @property\n",
    "    def atomic_mass(self): \n",
    "        return self._d['atomic_mass']\n",
    "    @property\n",
    "    def mass_density(self): \n",
    "        return self._d['atomic_mass'] * self._d['n_atoms_in_unit_cell'] / (self._d['unit_cell_volume'] * 1e-24)\n",
    "\n",
    "# Example usage\n",
    "s = Silicon()\n",
    "print(f\"Symbol: {s.symbol}\\nAtomic Number: {s.atomic_number}\\nMass Density: {s.mass_density:.4f} g/cm^3\")"
   ]
  },
  {
   "cell_type": "code",
   "execution_count": null,
   "metadata": {},
   "outputs": [],
   "source": []
  }
 ],
 "metadata": {
  "kernelspec": {
   "display_name": "cems5802_24.0",
   "language": "python",
   "name": "cems5802_24.0"
  },
  "language_info": {
   "codemirror_mode": {
    "name": "ipython",
    "version": 3
   },
   "file_extension": ".py",
   "mimetype": "text/x-python",
   "name": "python",
   "nbconvert_exporter": "python",
   "pygments_lexer": "ipython3",
   "version": "3.11.7"
  },
  "vscode": {
   "interpreter": {
    "hash": "702a0e69d05dce55110e57cc861025084f5bfa7960ad90440f1fb994b6254267"
   }
  }
 },
 "nbformat": 4,
 "nbformat_minor": 4
}
